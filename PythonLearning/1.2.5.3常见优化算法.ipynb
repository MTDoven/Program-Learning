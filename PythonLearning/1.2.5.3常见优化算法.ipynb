{
 "cells": [
  {
   "cell_type": "raw",
   "id": "e20548f8-d43c-4a0a-b03f-081f1d313ad4",
   "metadata": {},
   "source": [
    "常见优化算法\n",
    "1. 梯度下降：全局最优\n",
    "2. 随机梯度下降：随机的样本中抽出一个样本进行梯度更新\n",
    "3. 小批量梯度下降：找一波数据计算梯度，使用均值更新参数\n",
    "4. 动量法：对梯度平滑出来，防止振幅过大\n",
    "5. adaGrad：自适应学习率\n",
    "6. RMSProp：让步长越来越小\n",
    "7. Adam：动量法+RMSprop，自适应学习率，梯度振幅不会过大"
   ]
  }
 ],
 "metadata": {
  "kernelspec": {
   "display_name": "Python 3",
   "language": "python",
   "name": "python3"
  },
  "language_info": {
   "codemirror_mode": {
    "name": "ipython",
    "version": 3
   },
   "file_extension": ".py",
   "mimetype": "text/x-python",
   "name": "python",
   "nbconvert_exporter": "python",
   "pygments_lexer": "ipython3",
   "version": "3.9.12"
  }
 },
 "nbformat": 4,
 "nbformat_minor": 5
}
