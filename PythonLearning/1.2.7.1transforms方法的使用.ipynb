{
 "cells": [
  {
   "cell_type": "raw",
   "id": "a4451c63-6fee-4f57-8ceb-d3d5d1ff8651",
   "metadata": {},
   "source": [
    "手写数字识别\n",
    "1.思路\n",
    "    模型构建 训练 保存 评估\n",
    "2.MNIST数据处理api\n",
    "    a。ToTensor()\n",
    "    b。Normalize(mean,std) #形状和通道数相同\n",
    "    c。Compose(list) #每个方法挨个处理"
   ]
  },
  {
   "cell_type": "code",
   "execution_count": null,
   "id": "7ace9f8c-3322-4bb4-ac60-bc9be8455b32",
   "metadata": {},
   "outputs": [],
   "source": [
    "import torch\n",
    "from torchvision import transforms\n",
    "from torchvision.datasets import MNIST"
   ]
  },
  {
   "cell_type": "code",
   "execution_count": null,
   "id": "73bac265-a0de-4f50-b8aa-1475dbe76f1a",
   "metadata": {},
   "outputs": [],
   "source": [
    "mnist = MNIST(root='./MNISTdata', download=False, )\n",
    "img = mnist[0][0]\n",
    "print(img)"
   ]
  },
  {
   "cell_type": "code",
   "execution_count": null,
   "id": "fb5ce444-1349-47bc-941f-e3b8ab7d34d9",
   "metadata": {},
   "outputs": [],
   "source": [
    "ret = transforms.ToTensor()(img) #用这条语句来把一个PIL转化成tensor支持的样子\n",
    "print(ret.size(), ret)"
   ]
  },
  {
   "cell_type": "code",
   "execution_count": null,
   "id": "2681312b-d87d-49d7-b403-68e2734bc3d3",
   "metadata": {},
   "outputs": [],
   "source": [
    "norm_img = transforms.Normalize(10,10)(ret) #Normalize(mean，std)的括号里面放的是每条通道的均值和标准差\n",
    "print(norm_img.size(), norm_img)"
   ]
  },
  {
   "cell_type": "code",
   "execution_count": null,
   "id": "f357f0dc-da05-44c8-a24a-e7e882edd8e3",
   "metadata": {},
   "outputs": [],
   "source": [
    "transforms.Compose([\n",
    "    transforms.ToTensor()\n",
    "    transforms.Normalize(10,10)\n",
    "]) #将多条一起执行"
   ]
  }
 ],
 "metadata": {
  "kernelspec": {
   "display_name": "Python 3",
   "language": "python",
   "name": "python3"
  },
  "language_info": {
   "codemirror_mode": {
    "name": "ipython",
    "version": 3
   },
   "file_extension": ".py",
   "mimetype": "text/x-python",
   "name": "python",
   "nbconvert_exporter": "python",
   "pygments_lexer": "ipython3",
   "version": "3.9.12"
  }
 },
 "nbformat": 4,
 "nbformat_minor": 5
}
