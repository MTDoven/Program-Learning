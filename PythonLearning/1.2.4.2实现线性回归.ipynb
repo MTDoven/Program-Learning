{
 "cells": [
  {
   "cell_type": "code",
   "execution_count": 41,
   "id": "89c9df5d-d407-4ce1-9fb9-51210e266431",
   "metadata": {},
   "outputs": [],
   "source": [
    "import torch\n",
    "x = torch.rand([500,1])\n",
    "y_true = x*3 + 0.8\n",
    "learning_rate = 0.05\n",
    "#准备数据"
   ]
  },
  {
   "cell_type": "code",
   "execution_count": 42,
   "id": "12b039f8-629d-45fd-936f-3f8dad123aa4",
   "metadata": {},
   "outputs": [],
   "source": [
    "w = torch.rand([1,1], requires_grad=True)\n",
    "b = torch.tensor(0, requires_grad=True, dtype=torch.float32)\n",
    "#准备w和b"
   ]
  },
  {
   "cell_type": "code",
   "execution_count": 43,
   "id": "b08c62a9-09d8-4166-89d0-c79fa312bc7f",
   "metadata": {},
   "outputs": [
    {
     "name": "stdout",
     "output_type": "stream",
     "text": [
      "w,b,loss: 2.9999828338623047 0.8000089526176453 2.2552036627043748e-11\n"
     ]
    }
   ],
   "source": [
    "for i in range(10000):\n",
    "    #通过模型计算y_predict\n",
    "    y_predict = torch.matmul(x,w)+b #矩阵相乘\n",
    "    #计算loss\n",
    "    loss = (y_true-y_predict).pow(2).mean() #方差\n",
    "    #让grad归零\n",
    "    if w.grad is not None:\n",
    "        w.grad.data.zero_()\n",
    "    if b.grad is not None:\n",
    "        b.grad.data.zero_()\n",
    "    #反向传播更新树脂\n",
    "    loss.backward()\n",
    "    w.data = w.data-learning_rate*w.grad\n",
    "    b.data = b.data-learning_rate*b.grad\n",
    "print('w,b,loss:',w.item(),b.item(),loss.item())"
   ]
  }
 ],
 "metadata": {
  "kernelspec": {
   "display_name": "Python 3",
   "language": "python",
   "name": "python3"
  },
  "language_info": {
   "codemirror_mode": {
    "name": "ipython",
    "version": 3
   },
   "file_extension": ".py",
   "mimetype": "text/x-python",
   "name": "python",
   "nbconvert_exporter": "python",
   "pygments_lexer": "ipython3",
   "version": "3.9.12"
  }
 },
 "nbformat": 4,
 "nbformat_minor": 5
}
