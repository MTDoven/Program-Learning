{
 "cells": [
  {
   "cell_type": "raw",
   "id": "37308471-bf8c-4cc1-8ec5-481eacce4bc6",
   "metadata": {},
   "source": [
    "pytorchAPI的使用\n",
    "1. nn.Module\n",
    "    a. __init__() #初始化\n",
    "    b. forward() #完成一次向前计算过程（没有会报错）\n",
    "    *. nn.Linear(输入特征数量，输出特征数量)\n",
    "    c. Module定义了__call__方法,就是调用了forward方法\n",
    "2. optimizer（优化器）\n",
    "    a. torch.optim \n",
    "    #. 梯度置零在优化器中执行\n",
    "    #. 反向传播用loss进行\n",
    "3. 损失\n",
    "    a. nn.MSEloss()均方误差\n",
    "    #. 使用的时候先实例化，然后调用\n",
    "4. model.eval()表示设置为评估模式\n",
    "    #. model.train(mode=True)设置为训练模式"
   ]
  },
  {
   "cell_type": "code",
   "execution_count": null,
   "id": "b5877142-dcf7-495f-b041-9c33ff168a09",
   "metadata": {},
   "outputs": [],
   "source": [
    "import torch\n",
    "from torch import nn\n",
    "from torch.optim import SGD"
   ]
  },
  {
   "cell_type": "code",
   "execution_count": null,
   "id": "a5b0cde5-8c9f-493e-a856-cc90879d935e",
   "metadata": {},
   "outputs": [],
   "source": [
    "# 准备数据\n",
    "# 定义模型\n",
    "# 实例化模型，实例化优化器，实例化loss\n",
    "# 循环，梯度下降，参数更新"
   ]
  },
  {
   "cell_type": "code",
   "execution_count": null,
   "id": "743914df-a1ed-4402-b527-8fd96e4140f1",
   "metadata": {},
   "outputs": [],
   "source": [
    "x = torch.rand([500,1])\n",
    "y_true = 3*x + 0.8\n",
    "# 准备数据"
   ]
  },
  {
   "cell_type": "code",
   "execution_count": null,
   "id": "5eb885ba-234f-4cf6-b9cc-ebc04f71cdeb",
   "metadata": {},
   "outputs": [],
   "source": [
    "class MyLinear(nn.Module):\n",
    "    def __init__(self):\n",
    "        super(MyLinear, self).__init__()\n",
    "        self.linear = nn.Linear(1,1)\n",
    "    def forward(self, x):\n",
    "        out = self.linear(x)\n",
    "        return out\n",
    "# 定义模型"
   ]
  },
  {
   "cell_type": "code",
   "execution_count": null,
   "id": "980830d9-e091-4f52-8dda-1329a50d6ed4",
   "metadata": {},
   "outputs": [],
   "source": [
    "model = MyLinear()\n",
    "optimizer = SGD(model.parameters(), 0.01)\n",
    "loss_fn = nn.MSELoss()\n",
    "# 实例化模型，实例化优化器，实例化loss"
   ]
  },
  {
   "cell_type": "code",
   "execution_count": null,
   "id": "9c6a789e-e026-4256-8e3d-ff9bc2bd83f5",
   "metadata": {},
   "outputs": [],
   "source": [
    "for i in range(20000):\n",
    "    y_predict = model(x) #得到预测值\n",
    "    loss = loss_fn(y_predict, y_true) #获取loss值\n",
    "    optimizer.zero_grad() #梯度置零\n",
    "    loss.backward() #反向传播\n",
    "    optimizer.step()\n",
    "    if i%100==0:\n",
    "        print(loss.item(), list(model.parameters()) )\n",
    "# 循环，梯度下降，参数更新"
   ]
  }
 ],
 "metadata": {
  "kernelspec": {
   "display_name": "Python 3",
   "language": "python",
   "name": "python3"
  },
  "language_info": {
   "codemirror_mode": {
    "name": "ipython",
    "version": 3
   },
   "file_extension": ".py",
   "mimetype": "text/x-python",
   "name": "python",
   "nbconvert_exporter": "python",
   "pygments_lexer": "ipython3",
   "version": "3.9.12"
  }
 },
 "nbformat": 4,
 "nbformat_minor": 5
}
