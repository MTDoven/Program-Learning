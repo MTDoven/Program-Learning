{
 "cells": [
  {
   "cell_type": "raw",
   "id": "15834f43-929c-4330-b319-e050c9985b5a",
   "metadata": {},
   "source": [
    "手写数字识别\n",
    "1.思路\n",
    "    模型构建 训练 保存 评估\n",
    "2.MNIST数据处理api\n",
    "    a。ToTensor()\n",
    "    b。Normalize(mean,std) #形状和通道数相同\n",
    "    c。Compose(list) #每个方法挨个处理\n",
    "3.模型构建\n",
    "    a。激活函数的使用\n",
    "        i。import torch.nn.functional as F\n",
    "        ii。x=F.relu(x)\n",
    "    b。每一层数据的形状\n",
    "    c。交叉熵损失\n",
    "        i。nn.CrossEntropyLoss()\n",
    "        ii。带权损害\n",
    "4.模型保存\n",
    "    a. torch.save(model.state_dict(), './model/mnist_model.pt')\n",
    "       torch.save(optimizer.state_dict(), './model/mnist_optimizer.pt')\n",
    "    b. model.load_state_dict(torch.load('./model/mnist_model.pt'))\n",
    "       optimizer.load_state_dict(torch.load('./model/mnist_optimizer.pt'))"
   ]
  },
  {
   "cell_type": "code",
   "execution_count": null,
   "id": "04459b0f-332b-4012-b0d3-9b015488e57a",
   "metadata": {},
   "outputs": [],
   "source": [
    "from torch import nn\n",
    "from torchvision.transforms import Compose,ToTensor,Normalize\n",
    "from torchvision.datasets import MNIST\n",
    "from torch.utils.data import DataLoader\n",
    "from torch.optim import Adam\n",
    "import torch.nn.functional as F\n",
    "import numpy as np\n",
    "import torch, os"
   ]
  },
  {
   "cell_type": "code",
   "execution_count": null,
   "id": "52c56614-6094-4a7b-bba9-f5fe21671441",
   "metadata": {},
   "outputs": [],
   "source": [
    "BATCH_SIZE = 16\n",
    "LEARNING_RATE = 0.005\n",
    "\n",
    "def get_dataloader(train=True):\n",
    "    transform_fn = Compose([ ToTensor(), \n",
    "                             Normalize(mean=(0.1307,), std=(0.3081,)) ]) #转换成Tensor并且标准化\n",
    "    dataset = MNIST(root='./MNISTdata', download=False, train=train, transform=transform_fn) #实例化数据集\n",
    "    data_loader = DataLoader(dataset, batch_size=BATCH_SIZE, shuffle=True, drop_last=True) #实例化数据迭代器\n",
    "    return data_loader\n",
    "\n",
    "class MnistModel(nn.Module):\n",
    "    def __init__(self):\n",
    "        super(MnistModel,self).__init__()\n",
    "        self.fc1 = nn.Linear(1*28*28, 28) #第一个全连接层输入1层*28列*28行，输出28个\n",
    "        self.fc2 = nn.Linear(28, 10) #第二层输入28个，输出10个\n",
    "    def forward(self,inputs):\n",
    "        x = inputs.view([BATCH_SIZE, -1]) #形状修改，把\n",
    "        x = self.fc1(x) #全连接操作\n",
    "        x = F.relu(x) #激活函数处理\n",
    "        out = self.fc2(x) #全连接操作\n",
    "        return out \n",
    "\n",
    "device = torch.device('cuda')\n",
    "model = MnistModel().to(device) #实例化模型\n",
    "criterion = nn.CrossEntropyLoss() #实例化损失函数\n",
    "optimizer = Adam(model.parameters(), lr=LEARNING_RATE) #实例化优化器，传入模模型参数和型学习率\n",
    "\n",
    "def train():\n",
    "    data_loader = get_dataloader(train=True)#实例化数据迭代器\n",
    "    for idx,(inputs,target) in enumerate(data_loader):\n",
    "        inputs,target = inputs.to(device),target.to(device)\n",
    "        optimizer.step() #优化器重置\n",
    "        optimizer.zero_grad() #在优化器中梯度置零\n",
    "        output = model(inputs) #调用模型得到预测值\n",
    "        loss = criterion(output, target) #在损失函数中根据得到损失\n",
    "        loss.backward() #损失的反向传播\n",
    "        if idx%300==0:\n",
    "            print('序号：'+str(idx), 'LOSS：'+str(loss.item()) )\n",
    "        if idx%300==0:\n",
    "            torch.save(model.state_dict(), './model/mnist_model.pt')\n",
    "            torch.save(optimizer.state_dict(), './model/mnist_optimizer.pt')\n",
    "            #模型的保存"
   ]
  },
  {
   "cell_type": "code",
   "execution_count": null,
   "id": "756217d6-302b-4373-9a5d-dd98086cbe4d",
   "metadata": {},
   "outputs": [],
   "source": [
    "if os.path.exists('./model/mnist_optimizer.pt') and os.path.exists('./model/mnist_model.pt'):\n",
    "    model.load_state_dict(torch.load('./model/mnist_model.pt'))\n",
    "    optimizer.load_state_dict(torch.load('./model/mnist_optimizer.pt'))\n",
    "    #模型的加载"
   ]
  },
  {
   "cell_type": "code",
   "execution_count": null,
   "id": "bc4df9a8-852c-46d4-8615-e60a11f26d37",
   "metadata": {},
   "outputs": [],
   "source": [
    "train()"
   ]
  },
  {
   "cell_type": "markdown",
   "id": "c6ff795e-49e4-4f65-a822-dcf1aac5d795",
   "metadata": {},
   "source": [
    "# ======================================================"
   ]
  },
  {
   "cell_type": "raw",
   "id": "bce3495d-6b23-4dd6-a03b-e21c6c542cf3",
   "metadata": {},
   "source": [
    "5.模型评估\n",
    "    a. 不对计算追踪 with torch.no_grad():\n",
    "    b. 损失：同训练\n",
    "    c. 准确率：\n",
    "        获取预测值：tensor.max(dim=-1)[1]\n",
    "        对比是否正确：tensor.eq(tensor2).float().mean()"
   ]
  },
  {
   "cell_type": "code",
   "execution_count": null,
   "id": "41239eab-dbdc-4669-9f18-7854a69d1560",
   "metadata": {},
   "outputs": [],
   "source": [
    "def test():\n",
    "    model.eval()\n",
    "    loss_list = []; acc_list = []\n",
    "    test_dataloader = get_dataloader(train=False)\n",
    "    #导入模型，确定评估模式\n",
    "    for idx,(inputs, target) in enumerate(test_dataloader):\n",
    "        inputs,target = inputs.to(device),target.to(device)\n",
    "        with torch.no_grad():\n",
    "            output = model(inputs) #运算结果\n",
    "            cur_loss = criterion(output, target) #计算loss\n",
    "            loss_list.append(cur_loss) #把loss值添加到列表\n",
    "            #output:[batch_size,10]  target:[batch.size]\n",
    "            pred = output.max(dim=-1)[1] #取出预测值的最大值的未知\n",
    "            cur_acc = pred.eq(target).float().mean() #判断与目标值是否相等，把布尔型转化为整形，求均值\n",
    "            acc_list.append(cur_acc) #把准确率加入列表\n",
    "        if idx%20==0:\n",
    "            print('序号：'+str(idx), '准确率：'+str(cur_acc.item()) )\n",
    "    # 正向运算并保存结果到列表\n",
    "    loss_list = torch.tensor(loss_list, device=device)\n",
    "    acc_list = torch.tensor(acc_list, device=device) #把列表转化为tensor便于求均值\n",
    "    print('准确率：',acc_list.mean().item(), 'LOSS：',loss_list.mean().item())\n",
    "    # 计算并输出准确率\n",
    "test()\n",
    "#计算评估准确率"
   ]
  }
 ],
 "metadata": {
  "kernelspec": {
   "display_name": "Python 3",
   "language": "python",
   "name": "python3"
  },
  "language_info": {
   "codemirror_mode": {
    "name": "ipython",
    "version": 3
   },
   "file_extension": ".py",
   "mimetype": "text/x-python",
   "name": "python",
   "nbconvert_exporter": "python",
   "pygments_lexer": "ipython3",
   "version": "3.9.12"
  }
 },
 "nbformat": 4,
 "nbformat_minor": 5
}
