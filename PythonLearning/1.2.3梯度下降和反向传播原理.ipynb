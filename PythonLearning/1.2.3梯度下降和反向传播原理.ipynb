{
 "cells": [
  {
   "cell_type": "raw",
   "id": "fa1ee2af-6559-4ba9-9aa9-794ee4a84a23",
   "metadata": {},
   "source": [
    "梯度下降和反向传播\n",
    "1.梯度\n",
    "    a。向量\n",
    "    b。导数+学习（参数更新，下降最快）的方向\n",
    "2.梯度下降\n",
    "    a。算出梯度\n",
    "    b。w=w-a△w\n",
    "3.常见的导数计算\n",
    "4.反向传播\n",
    "    a。计算图：把数据和操作通过作图来表示\n",
    "    b。反向传播：从后往前，计算每一层的梯度"
   ]
  }
 ],
 "metadata": {
  "kernelspec": {
   "display_name": "Python 3",
   "language": "python",
   "name": "python3"
  },
  "language_info": {
   "codemirror_mode": {
    "name": "ipython",
    "version": 3
   },
   "file_extension": ".py",
   "mimetype": "text/x-python",
   "name": "python",
   "nbconvert_exporter": "python",
   "pygments_lexer": "ipython3",
   "version": "3.9.12"
  }
 },
 "nbformat": 4,
 "nbformat_minor": 5
}
