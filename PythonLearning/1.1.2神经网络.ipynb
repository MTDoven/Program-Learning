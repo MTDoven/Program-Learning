{
 "cells": [
  {
   "cell_type": "raw",
   "id": "33c9bd15-8c9d-412d-945f-da6ad24ae221",
   "metadata": {},
   "source": [
    "神将网络\n",
    "    1、概念\n",
    "        a、模拟生物的神经系统对函数进行估计和近似\n",
    "    2、神经元\n",
    "        a、神经网络中的基础单元相互连接组成神经网络\n",
    "        b、t=(WTA+B)\n",
    "        c、一个神经元的功能是求得输入向量与权向量点乘后，经一个非线性传递函数得到一个标量的结果\n",
    "    3、单层神经网络\n",
    "        a、最简单的神经网络形式\n",
    "    4、感知机\n",
    "        a、两层神经网络\n",
    "        b、简单的二分类模型，给定数据，判断数据属于哪一部分\n",
    "    5、多层神经网\n",
    "        a、输入层\n",
    "        b、输出层\n",
    "        c、隐层，可以有多层，神经元数量不确定\n",
    "            i、全连接层：第n层和第n-1层神经元两两连接；进行的是y=Wx+b\n",
    "  *6、激活函数\n",
    "        a、线性\n",
    "            i、系统：函数，f，模型\n",
    "            ii、f(x1+x2)=k(y1+y2)\n",
    "        b、作用\n",
    "            i、增加模型的非线性分割能力\n",
    "            ii、提高模型的稳健性\n",
    "            iii、缓解梯度消失\n",
    "            iv、加速模型收敛\n",
    "        c、常见激活函数\n",
    "            i、sigmoi：（0，1）\n",
    "            ii、tanh：（-1，1）\n",
    "            iii、relu：max（0，x）\n",
    "            iv、ELU：a（e^x-1）"
   ]
  }
 ],
 "metadata": {
  "kernelspec": {
   "display_name": "Python 3",
   "language": "python",
   "name": "python3"
  },
  "language_info": {
   "codemirror_mode": {
    "name": "ipython",
    "version": 3
   },
   "file_extension": ".py",
   "mimetype": "text/x-python",
   "name": "python",
   "nbconvert_exporter": "python",
   "pygments_lexer": "ipython3",
   "version": "3.9.12"
  }
 },
 "nbformat": 4,
 "nbformat_minor": 5
}
