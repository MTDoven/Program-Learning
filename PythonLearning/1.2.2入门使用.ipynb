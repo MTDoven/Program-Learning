{
 "cells": [
  {
   "cell_type": "raw",
   "id": "86265332-060a-4b14-9450-f1e10918303d",
   "metadata": {},
   "source": [
    "Pytorch\n",
    "    1、安装\n",
    "    2、Tensor\n",
    "        a、各种数值数据称为张量\n",
    "        b、常数：scaler：0阶张量\n",
    "        c、向量：vector：1阶张量\n",
    "        d、矩阵：matrix：2阶张量\n",
    "        e、多阶张量\n",
    "    3、张量创建方法\n",
    "        a、torch.Tensor(list)\n",
    "        b、empty(),zeros(),ones()\n",
    "        c、rand(),randint(),randn()\n",
    "    4、张量的方法和属性\n",
    "        a、item()获取单一数据数组的值\n",
    "        b、numpy()将Tensor转化为ndarray\n",
    "       *c、size(n)获取第n维度长度，空获取形状\n",
    "        d、view([shape])改变形状\n",
    "        e、dim,max,min,std\n",
    "       *f、转置\n",
    "            i、t() #只能二维，\n",
    "            ii、transpose(x,y) #交换的两个\n",
    "            iii、permute(y,x,z) #交换后的数据\n",
    "            iv、view和transpose不一样\n",
    "        g、取值和切片，使用tensor[]类似列表操作\n",
    "    5、数据类型\n",
    "        a、指定数据类型torch.tensor(array,dtype)\n",
    "        b、获取市局类型tensor.dtype\n",
    "        c、修改数据类型x=tensor.long()/double()\n",
    "        #梯度消失：数据太小了超过表示范围\n",
    "        #梯度爆炸：数据太大了超过表示范围\n",
    "    6.原地修改的方法\n",
    "        x.add_(y)会直接修改x的值\n",
    "        加下划线会就地修改\n",
    "    7.GPU中的tensor使用\n",
    "        a.实例化device\n",
    "        b.tensor.to(device)"
   ]
  },
  {
   "cell_type": "markdown",
   "id": "a5f6cef6-65d2-4045-a891-20fdc5ec136d",
   "metadata": {},
   "source": [
    "# 张量的创建"
   ]
  },
  {
   "cell_type": "markdown",
   "id": "605951c6-e35f-421d-98c2-a4c4e7b08412",
   "metadata": {},
   "source": [
    "创建数组-Tensor方法"
   ]
  },
  {
   "cell_type": "code",
   "execution_count": null,
   "id": "b67bf8b3-3ab4-4477-a3e3-6acb314f15f4",
   "metadata": {},
   "outputs": [],
   "source": [
    "import torch\n",
    "import numpy as np\n",
    "t1 = torch.Tensor([1,2,3])\n",
    "array1 = np.arange(12).reshape(3,4)\n",
    "torch.Tensor(array1)"
   ]
  },
  {
   "cell_type": "markdown",
   "id": "52f46be2-9eeb-45d0-b5a8-1f6e3a4649e4",
   "metadata": {},
   "source": [
    "使用API创建数组-四种方法"
   ]
  },
  {
   "cell_type": "code",
   "execution_count": null,
   "id": "096e368f-a942-428f-acd7-76eaee0c1fb4",
   "metadata": {},
   "outputs": [],
   "source": [
    "print(torch.empty([3,4]))\n",
    "print(torch.ones([3,4]))\n",
    "print(torch.zeros([3,4]))\n",
    "print(torch.rand([3,4]))"
   ]
  },
  {
   "cell_type": "markdown",
   "id": "80576fe4-7013-4ab4-84aa-4965c5b4d129",
   "metadata": {},
   "source": [
    "创建随机数组-三种方法"
   ]
  },
  {
   "cell_type": "code",
   "execution_count": null,
   "id": "21660515-b8f8-466a-84e1-1b3cde868f06",
   "metadata": {},
   "outputs": [],
   "source": [
    "print(torch.rand([3,4]))#创建的是[0,1)\n",
    "print(torch.randint(size=[3,4], low=0, high=3))#创建整形数组\n",
    "print(torch.randn([3,4]))#满足标准正态分布的数组"
   ]
  },
  {
   "cell_type": "markdown",
   "id": "b7c68e43-190f-4d7a-829d-7bad082f88e8",
   "metadata": {
    "tags": []
   },
   "source": [
    "# 张量的方法和属性"
   ]
  },
  {
   "cell_type": "markdown",
   "id": "3b27cacc-3433-4bf2-945b-2465b4fd389c",
   "metadata": {},
   "source": [
    "查看单一量的数值-item方法"
   ]
  },
  {
   "cell_type": "code",
   "execution_count": null,
   "id": "af8f8611-5b6a-4fab-843f-6af0617a4c7e",
   "metadata": {},
   "outputs": [],
   "source": [
    "t1 = torch.Tensor([[[1]]])\n",
    "t1.item()\n",
    "t2 = torch.Tensor([[[1,2]]])\n",
    "t2.item()#only one element tensors can be converted to Python scalars"
   ]
  },
  {
   "cell_type": "markdown",
   "id": "d40a962c-a980-4322-8a7f-b5e9eb96d977",
   "metadata": {},
   "source": [
    "转化成ndarray-numpy方法"
   ]
  },
  {
   "cell_type": "code",
   "execution_count": null,
   "id": "5a555323-9a42-431b-bad4-3c0df2a799df",
   "metadata": {},
   "outputs": [],
   "source": [
    "t2.numpy()"
   ]
  },
  {
   "cell_type": "markdown",
   "id": "1e16969b-77ca-4ffa-b7eb-0bab033d5613",
   "metadata": {},
   "source": [
    "查看形状-size方法"
   ]
  },
  {
   "cell_type": "code",
   "execution_count": null,
   "id": "f1842b43-f30b-42cb-8345-17f6135d46f6",
   "metadata": {},
   "outputs": [],
   "source": [
    "t2.size(-1)#返回对应维度的大小"
   ]
  },
  {
   "cell_type": "markdown",
   "id": "0af023c3-2b25-4893-bb0c-e4a5b929d0d4",
   "metadata": {},
   "source": [
    "改变形状-view方法"
   ]
  },
  {
   "cell_type": "code",
   "execution_count": null,
   "id": "6906ddb8-1061-4e05-81c3-e51cb75d592d",
   "metadata": {},
   "outputs": [],
   "source": [
    "print(t2.size())\n",
    "t2a = t2.view([2,-1])#自动匹配数值,只改变形状没有复制数值\n",
    "print(t2a.size())"
   ]
  },
  {
   "cell_type": "markdown",
   "id": "1a3f60b2-c7ff-4476-82c1-30ef770fe40e",
   "metadata": {},
   "source": [
    "获取各种值-多种方法"
   ]
  },
  {
   "cell_type": "code",
   "execution_count": null,
   "id": "ce08fd33-8053-44e2-8875-d057eb37db1c",
   "metadata": {},
   "outputs": [],
   "source": [
    "print(t2.dim())#维度\n",
    "print(t2.min())\n",
    "print(t2.max())\n",
    "print(t2.std())#平均值"
   ]
  },
  {
   "cell_type": "markdown",
   "id": "9cfc77fd-a46b-4001-b87d-4c729f135078",
   "metadata": {},
   "source": [
    "转置-permute方法"
   ]
  },
  {
   "cell_type": "code",
   "execution_count": null,
   "id": "085d01ff-4478-40aa-b2b1-4c5ddb8c4b24",
   "metadata": {},
   "outputs": [],
   "source": [
    "print(t2[0].t())#二维转置，实现想，xy调换\n",
    "t3 = torch.Tensor(np.arange(24).reshape(2,3,4))\n",
    "print(t3)\n",
    "print(t3.transpose(0,1))#填入要转置的维度\n",
    "print(t3.permute(1,0,2))#将新维度顺序填入"
   ]
  },
  {
   "cell_type": "markdown",
   "id": "0727b1af-7fa6-4045-aead-78ac271e4baf",
   "metadata": {},
   "source": [
    "取值和切片-tensor[]"
   ]
  },
  {
   "cell_type": "code",
   "execution_count": null,
   "id": "4d1d36da-1023-4afe-b2c5-1d7db0eed3b1",
   "metadata": {},
   "outputs": [],
   "source": [
    "t4 = t3.permute(1,2,0)\n",
    "print(t4[1,2,1])\n",
    "print(t4[1,:,:])"
   ]
  },
  {
   "cell_type": "markdown",
   "id": "1738dab9-7ca9-41ee-9734-72d1f39e1b53",
   "metadata": {
    "tags": []
   },
   "source": [
    "# 数据类型"
   ]
  },
  {
   "cell_type": "markdown",
   "id": "700ca909-3610-47c4-ba26-b6d90b0b7a55",
   "metadata": {},
   "source": [
    "数据类型转换-tensor.double()"
   ]
  },
  {
   "cell_type": "code",
   "execution_count": null,
   "id": "4ef2cafd-e58d-4b9c-bcd4-638316aa9bc0",
   "metadata": {},
   "outputs": [],
   "source": [
    "t5 = torch.Tensor(2,3)#传入数字是形状\n",
    "print(t5, t5.dtype)\n",
    "t5 = torch.Tensor([2,3])#传入列表是tensor\n",
    "print(t5, t5.dtype)\n",
    "t5a = t5.int() #相当于复制了一次张量\n",
    "print(t5a.dtype)"
   ]
  },
  {
   "cell_type": "markdown",
   "id": "e8635922-056f-48aa-ac80-924c832de21b",
   "metadata": {},
   "source": [
    "创建指定数据类型"
   ]
  },
  {
   "cell_type": "code",
   "execution_count": null,
   "id": "5a599cee-e8c3-4622-beb0-9266e6366f24",
   "metadata": {},
   "outputs": [],
   "source": [
    "t6 = torch.tensor(np.arange(12), dtype=torch.long)\n",
    "print(t6.dtype)"
   ]
  },
  {
   "cell_type": "markdown",
   "id": "ec545e48-cb7f-4a09-9fa5-5300020be8bc",
   "metadata": {},
   "source": [
    "# tensor的其他操作"
   ]
  },
  {
   "cell_type": "markdown",
   "id": "8e33fa40-28e9-41df-8a0c-6157e64273de",
   "metadata": {},
   "source": [
    "tensor和tensor相加  \n",
    "tensor和数字相加"
   ]
  },
  {
   "cell_type": "markdown",
   "id": "abfedb3f-ccab-43c1-a882-90edd35fb157",
   "metadata": {},
   "source": [
    "# GPU中的tensor的使用"
   ]
  },
  {
   "cell_type": "code",
   "execution_count": null,
   "id": "f5cc0e60-e3e3-4276-bb23-276def3b0d4b",
   "metadata": {},
   "outputs": [],
   "source": [
    "torch.cuda.is_available()"
   ]
  },
  {
   "cell_type": "code",
   "execution_count": null,
   "id": "d623d8e9-6ddd-4c14-ad4c-6e876d639cb2",
   "metadata": {},
   "outputs": [],
   "source": [
    "device = torch.device('cuda' if torch.cuda.is_available() else 'cpu')\n",
    "torch.zeros([2,3],device=device)"
   ]
  },
  {
   "cell_type": "code",
   "execution_count": null,
   "id": "6911dae0-ca2e-4555-9793-b43457201e86",
   "metadata": {},
   "outputs": [],
   "source": [
    "a = torch.zeros([2,3])\n",
    "a.to(device)"
   ]
  }
 ],
 "metadata": {
  "kernelspec": {
   "display_name": "Python 3",
   "language": "python",
   "name": "python3"
  },
  "language_info": {
   "codemirror_mode": {
    "name": "ipython",
    "version": 3
   },
   "file_extension": ".py",
   "mimetype": "text/x-python",
   "name": "python",
   "nbconvert_exporter": "python",
   "pygments_lexer": "ipython3",
   "version": "3.9.12"
  }
 },
 "nbformat": 4,
 "nbformat_minor": 5
}
