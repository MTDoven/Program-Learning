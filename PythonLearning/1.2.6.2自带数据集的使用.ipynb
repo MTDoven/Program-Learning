{
 "cells": [
  {
   "cell_type": "raw",
   "id": "14fdbd7e-ca3f-4a5e-a579-f30944850715",
   "metadata": {},
   "source": [
    "pytorch自带数据集\n",
    "1. torchvision图像\n",
    "    a. torchvision.datasets\n",
    "2. torchtext文本\n",
    "    a. torchtext.datasets"
   ]
  },
  {
   "cell_type": "code",
   "execution_count": 3,
   "id": "50bbff42-32fc-4d12-948c-7dc46380bbf2",
   "metadata": {},
   "outputs": [],
   "source": [
    "import torchvision\n",
    "from torchvision.datasets import MNIST"
   ]
  },
  {
   "cell_type": "code",
   "execution_count": 12,
   "id": "ffe8a456-165a-486a-9b47-e470785e57c6",
   "metadata": {},
   "outputs": [],
   "source": [
    "mnist = MNIST(root='./MNISTdata', train=True, download=False)\n",
    "#导入数据集"
   ]
  },
  {
   "cell_type": "code",
   "execution_count": 13,
   "id": "1a5ff185-88b1-40a9-b278-bada05eb89b0",
   "metadata": {},
   "outputs": [
    {
     "name": "stdout",
     "output_type": "stream",
     "text": [
      "Dataset MNIST\n",
      "    Number of datapoints: 60000\n",
      "    Root location: ./MNISTdata\n",
      "    Split: Train\n",
      "(<PIL.Image.Image image mode=L size=28x28 at 0x7F97A0B76CA0>, 5)\n",
      "<PIL.Image.Image image mode=L size=28x28 at 0x7F97A0B76670>\n",
      "None\n"
     ]
    }
   ],
   "source": [
    "print(mnist)\n",
    "print(mnist[0])\n",
    "print(mnist[0][0])\n",
    "print(mnist[0][0].show())\n",
    "#获取其中的数据"
   ]
  }
 ],
 "metadata": {
  "kernelspec": {
   "display_name": "Python 3",
   "language": "python",
   "name": "python3"
  },
  "language_info": {
   "codemirror_mode": {
    "name": "ipython",
    "version": 3
   },
   "file_extension": ".py",
   "mimetype": "text/x-python",
   "name": "python",
   "nbconvert_exporter": "python",
   "pygments_lexer": "ipython3",
   "version": "3.9.12"
  }
 },
 "nbformat": 4,
 "nbformat_minor": 5
}
