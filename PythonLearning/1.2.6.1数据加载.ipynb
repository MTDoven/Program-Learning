{
 "cells": [
  {
   "cell_type": "raw",
   "id": "ebb44f28-ea5b-439a-920f-773790b381bd",
   "metadata": {},
   "source": [
    "数据加载\n",
    "1.数据集类\n",
    "    1. torch.utils.data.Dataset\n",
    "    2. 完成三个方法\n",
    "2.数据加载类\n",
    "    1. torch.utils.data.DataLoader\n",
    "    2. DataLoader(dateset=, batch_size=, shuffle=True, drop_last=True)"
   ]
  },
  {
   "cell_type": "code",
   "execution_count": null,
   "id": "ff604f46-20c9-4214-9d04-720240acfcd1",
   "metadata": {},
   "outputs": [],
   "source": [
    "import torch\n",
    "from torch.utils.data import Dataset\n",
    "from torch.utils.data import DataLoader"
   ]
  },
  {
   "cell_type": "code",
   "execution_count": null,
   "id": "99d6c402-e35b-4a32-bf6f-74fc5e996ce8",
   "metadata": {},
   "outputs": [],
   "source": [
    "data_path = './SMSSpam/SMSSpamCollection' #定义数据集目录"
   ]
  },
  {
   "cell_type": "code",
   "execution_count": null,
   "id": "551eeeed-1c86-44b7-b49c-2735625a3c8b",
   "metadata": {},
   "outputs": [],
   "source": [
    "class MyDataset(Dataset):\n",
    "    def __init__(self):\n",
    "        self.lines = open(data_path).readlines()\n",
    "        #初始化加载数据集\n",
    "    def __getitem__(self, index):\n",
    "        cur_line = self.lines[index]\n",
    "        label = cur_line[:4].strip()\n",
    "        content = cur_line[4:].strip()\n",
    "        return label,content\n",
    "        #获取索引对应位置的数据，让我们将来可以用MyDateset[]的方法获取第n条数据\n",
    "    def __len__(self):\n",
    "        return len(self.lines)\n",
    "        #获取长度，让我们将来可以用len(MyDataset)的方法获取数据长度"
   ]
  },
  {
   "cell_type": "code",
   "execution_count": null,
   "id": "668033c0-29f8-4e8c-8e10-a1c8c837aa03",
   "metadata": {},
   "outputs": [],
   "source": [
    "my_dataset = MyDataset()\n",
    "print(my_dataset[0])\n",
    "print(len(my_dataset))\n",
    "#直接用类似列表操作\n",
    "#加载数据集"
   ]
  },
  {
   "cell_type": "code",
   "execution_count": null,
   "id": "b4323c83-b280-4396-8445-b15c0752f7e5",
   "metadata": {},
   "outputs": [],
   "source": [
    "my_dataset = MyDataset()\n",
    "data_loader = DataLoader(dataset=my_dataset, batch_size=1, shuffle=True, drop_last=True) \n",
    "#传入数据集，batchsize，确定打乱, 如果除不尽就删去最后一个batch\n",
    "print(len(data_loader))#dataloader的长度是batch的数量\n",
    "for index,[(label,), (content,)] in enumerate(data_loader): #enumerate可以用来把可迭代对象格式化\n",
    "    print(index, label, content)\n",
    "    break"
   ]
  }
 ],
 "metadata": {
  "kernelspec": {
   "display_name": "Python 3",
   "language": "python",
   "name": "python3"
  },
  "language_info": {
   "codemirror_mode": {
    "name": "ipython",
    "version": 3
   },
   "file_extension": ".py",
   "mimetype": "text/x-python",
   "name": "python",
   "nbconvert_exporter": "python",
   "pygments_lexer": "ipython3",
   "version": "3.9.12"
  }
 },
 "nbformat": 4,
 "nbformat_minor": 5
}
