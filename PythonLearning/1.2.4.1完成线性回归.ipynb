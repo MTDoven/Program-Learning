{
 "cells": [
  {
   "cell_type": "raw",
   "id": "ba1ab701-b9cf-4930-848a-4e56361f09a0",
   "metadata": {},
   "source": [
    "5.pytorch完成线性回归\n",
    "    a. tensor(data,requires_grad=True)\n",
    "        i。该tensor后续会记录计算操作\n",
    "        ii. tensor所有的操作都会被记录在grad_fn\n",
    "    b. with torch.no_grad():\n",
    "        i. 其中操作不会被追踪\n",
    "    c. 反向传播：out.backward()\n",
    "    d. 获取梯度：x.grad（#不是方法是属性）\n",
    "        i。累加梯度\n",
    "        ii。每次反向传播之前要把梯度置为0\n",
    "    e. 注意点\n",
    "        i。tensor.data仅仅获取tensor中的数据，操作不会被grad记录\n",
    "        ii。tensor.numpy()在grad=True时不能直接转换，需要使用tensor.detach().numpy()\n",
    "        iii。data是浅拷贝，detach是深拷贝"
   ]
  },
  {
   "cell_type": "code",
   "execution_count": null,
   "id": "f6f2c82f-4b46-4fad-8845-ed96c2867fc6",
   "metadata": {},
   "outputs": [],
   "source": [
    "import torch\n",
    "x = torch.ones(2,2,requires_grad=True)\n",
    "#初始化参数x并设置requires_grad为True\n",
    "print(x)"
   ]
  },
  {
   "cell_type": "code",
   "execution_count": null,
   "id": "7ec7f14b-d274-44e8-9e59-8845dcac4da0",
   "metadata": {},
   "outputs": [],
   "source": [
    "y = x+2\n",
    "print(y)\n",
    "z = y*y*3\n",
    "print(z)\n",
    "#进行一系列计算操作"
   ]
  },
  {
   "cell_type": "code",
   "execution_count": null,
   "id": "178da8ed-ecdc-48d6-98d4-66bf45c4dc9a",
   "metadata": {},
   "outputs": [],
   "source": [
    "out = z.mean()\n",
    "print(out)\n",
    "#求均值"
   ]
  },
  {
   "cell_type": "code",
   "execution_count": null,
   "id": "46ac2182-bde3-49a9-819e-292a93bb0ec9",
   "metadata": {},
   "outputs": [],
   "source": [
    "print(out.grad_fn)\n",
    "#输出记录"
   ]
  },
  {
   "cell_type": "code",
   "execution_count": null,
   "id": "07881eba-2d8c-4e09-8fa9-0a4657ed300b",
   "metadata": {},
   "outputs": [],
   "source": [
    "with torch.no_grad():\n",
    "    c = (out*out).sum()\n",
    "print(c.requires_grad)\n",
    "#以下不记录操作"
   ]
  },
  {
   "cell_type": "code",
   "execution_count": null,
   "id": "1dbd0519-bd0e-4ea4-bf1c-a85809d5e071",
   "metadata": {},
   "outputs": [],
   "source": [
    "out.backward()\n",
    "#反向传播计算梯度"
   ]
  }
 ],
 "metadata": {
  "kernelspec": {
   "display_name": "Python 3",
   "language": "python",
   "name": "python3"
  },
  "language_info": {
   "codemirror_mode": {
    "name": "ipython",
    "version": 3
   },
   "file_extension": ".py",
   "mimetype": "text/x-python",
   "name": "python",
   "nbconvert_exporter": "python",
   "pygments_lexer": "ipython3",
   "version": "3.9.12"
  }
 },
 "nbformat": 4,
 "nbformat_minor": 5
}
