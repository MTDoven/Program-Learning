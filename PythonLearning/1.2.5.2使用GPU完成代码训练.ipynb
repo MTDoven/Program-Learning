{
 "cells": [
  {
   "cell_type": "raw",
   "id": "7da6acde-6109-4b5c-bf1b-36e7c4c2805d",
   "metadata": {},
   "source": [
    "在GPU上执行程序\n",
    "1.自定义的参数和数据，需要转化为cuda支持的tensor\n",
    "2.model需要转化为cuda支持的model\n",
    "3.执行的结果需要和cpu的tensor计算的时候\n",
    "    a。tensor.cpu()把tensor转化为cpu的tensor"
   ]
  },
  {
   "cell_type": "code",
   "execution_count": 1,
   "id": "58147f72-844d-43c0-8a1c-5baaf8e4adad",
   "metadata": {},
   "outputs": [],
   "source": [
    "import torch\n",
    "from torch import nn\n",
    "from torch.optim import SGD"
   ]
  },
  {
   "cell_type": "code",
   "execution_count": 2,
   "id": "192c04df-afbe-4307-bce2-4e154c76064a",
   "metadata": {},
   "outputs": [],
   "source": [
    "# 定义device对象\n",
    "# 准备数据\n",
    "# 定义模型\n",
    "# 实例化模型，实例化优化器，实例化loss\n",
    "# 循环，梯度下降，参数更新"
   ]
  },
  {
   "cell_type": "code",
   "execution_count": 3,
   "id": "836f8711-7efe-4468-a571-c3164ac937ca",
   "metadata": {},
   "outputs": [],
   "source": [
    "device = torch.device('cuda')# if torch.cuda.is_available() else 'cpu')\n",
    "# 定义device对象"
   ]
  },
  {
   "cell_type": "code",
   "execution_count": 4,
   "id": "a2153034-11e4-40a0-bf1b-ffed6831c9ae",
   "metadata": {},
   "outputs": [],
   "source": [
    "x = torch.rand([500,1])\n",
    "x = x.to(device)\n",
    "y_true = 3*x + 0.8\n",
    "# 准备数据"
   ]
  },
  {
   "cell_type": "code",
   "execution_count": 5,
   "id": "c06ffbf2-be8b-452b-9f72-bb8d0d3e99ad",
   "metadata": {},
   "outputs": [],
   "source": [
    "class MyLinear(nn.Module):\n",
    "    def __init__(self):\n",
    "        super(MyLinear, self).__init__()\n",
    "        self.linear = nn.Linear(1,1)\n",
    "    def forward(self, x):\n",
    "        out = self.linear(x)\n",
    "        return out\n",
    "# 定义模型"
   ]
  },
  {
   "cell_type": "code",
   "execution_count": 6,
   "id": "d08b335a-97fd-4d76-8c5b-e5368976bf4f",
   "metadata": {},
   "outputs": [],
   "source": [
    "model = MyLinear().to(device)\n",
    "optimizer = SGD(model.parameters(), 0.005)\n",
    "loss_fn = nn.MSELoss()\n",
    "# 实例化模型，实例化优化器，实例化loss"
   ]
  },
  {
   "cell_type": "code",
   "execution_count": 7,
   "id": "90f469a4-817d-46be-b0ae-7134847ac017",
   "metadata": {},
   "outputs": [
    {
     "name": "stdout",
     "output_type": "stream",
     "text": [
      "11.262248992919922 [Parameter containing:\n",
      "tensor([[-0.2999]], device='cuda:0', requires_grad=True), Parameter containing:\n",
      "tensor([-0.7315], device='cuda:0', requires_grad=True)]\n",
      "0.08377828449010849 [Parameter containing:\n",
      "tensor([[2.0238]], device='cuda:0', requires_grad=True), Parameter containing:\n",
      "tensor([1.3201], device='cuda:0', requires_grad=True)]\n",
      "0.02133050002157688 [Parameter containing:\n",
      "tensor([[2.5074]], device='cuda:0', requires_grad=True), Parameter containing:\n",
      "tensor([1.0625], device='cuda:0', requires_grad=True)]\n",
      "0.005430859047919512 [Parameter containing:\n",
      "tensor([[2.7515]], device='cuda:0', requires_grad=True), Parameter containing:\n",
      "tensor([0.9324], device='cuda:0', requires_grad=True)]\n",
      "0.0013827432412654161 [Parameter containing:\n",
      "tensor([[2.8746]], device='cuda:0', requires_grad=True), Parameter containing:\n",
      "tensor([0.8668], device='cuda:0', requires_grad=True)]\n",
      "0.0003520527679938823 [Parameter containing:\n",
      "tensor([[2.9367]], device='cuda:0', requires_grad=True), Parameter containing:\n",
      "tensor([0.8337], device='cuda:0', requires_grad=True)]\n",
      "8.963378058979288e-05 [Parameter containing:\n",
      "tensor([[2.9681]], device='cuda:0', requires_grad=True), Parameter containing:\n",
      "tensor([0.8170], device='cuda:0', requires_grad=True)]\n",
      "2.282373679918237e-05 [Parameter containing:\n",
      "tensor([[2.9839]], device='cuda:0', requires_grad=True), Parameter containing:\n",
      "tensor([0.8086], device='cuda:0', requires_grad=True)]\n",
      "5.813576990476577e-06 [Parameter containing:\n",
      "tensor([[2.9919]], device='cuda:0', requires_grad=True), Parameter containing:\n",
      "tensor([0.8043], device='cuda:0', requires_grad=True)]\n",
      "1.4836816717433976e-06 [Parameter containing:\n",
      "tensor([[2.9959]], device='cuda:0', requires_grad=True), Parameter containing:\n",
      "tensor([0.8022], device='cuda:0', requires_grad=True)]\n",
      "3.813793512108532e-07 [Parameter containing:\n",
      "tensor([[2.9979]], device='cuda:0', requires_grad=True), Parameter containing:\n",
      "tensor([0.8011], device='cuda:0', requires_grad=True)]\n",
      "1.0107586234653354e-07 [Parameter containing:\n",
      "tensor([[2.9989]], device='cuda:0', requires_grad=True), Parameter containing:\n",
      "tensor([0.8006], device='cuda:0', requires_grad=True)]\n",
      "2.6079412407398195e-08 [Parameter containing:\n",
      "tensor([[2.9995]], device='cuda:0', requires_grad=True), Parameter containing:\n",
      "tensor([0.8003], device='cuda:0', requires_grad=True)]\n",
      "7.889365605251442e-09 [Parameter containing:\n",
      "tensor([[2.9997]], device='cuda:0', requires_grad=True), Parameter containing:\n",
      "tensor([0.8002], device='cuda:0', requires_grad=True)]\n",
      "2.0835320135859092e-09 [Parameter containing:\n",
      "tensor([[2.9998]], device='cuda:0', requires_grad=True), Parameter containing:\n",
      "tensor([0.8001], device='cuda:0', requires_grad=True)]\n",
      "2.0835320135859092e-09 [Parameter containing:\n",
      "tensor([[2.9998]], device='cuda:0', requires_grad=True), Parameter containing:\n",
      "tensor([0.8001], device='cuda:0', requires_grad=True)]\n",
      "2.0835320135859092e-09 [Parameter containing:\n",
      "tensor([[2.9998]], device='cuda:0', requires_grad=True), Parameter containing:\n",
      "tensor([0.8001], device='cuda:0', requires_grad=True)]\n",
      "2.0835320135859092e-09 [Parameter containing:\n",
      "tensor([[2.9998]], device='cuda:0', requires_grad=True), Parameter containing:\n",
      "tensor([0.8001], device='cuda:0', requires_grad=True)]\n",
      "2.0835320135859092e-09 [Parameter containing:\n",
      "tensor([[2.9998]], device='cuda:0', requires_grad=True), Parameter containing:\n",
      "tensor([0.8001], device='cuda:0', requires_grad=True)]\n",
      "2.0835320135859092e-09 [Parameter containing:\n",
      "tensor([[2.9998]], device='cuda:0', requires_grad=True), Parameter containing:\n",
      "tensor([0.8001], device='cuda:0', requires_grad=True)]\n"
     ]
    }
   ],
   "source": [
    "for i in range(20000):\n",
    "    optimizer.zero_grad() #梯度置零\n",
    "    y_predict = model(x) #得到预测值\n",
    "    loss = loss_fn(y_predict, y_true) #获取loss值\n",
    "    loss.backward() #反向传播\n",
    "    optimizer.step()\n",
    "    if i%1000==0:\n",
    "        print(loss.item(), list(model.parameters()) )\n",
    "# 循环，梯度下降，参数更新"
   ]
  }
 ],
 "metadata": {
  "kernelspec": {
   "display_name": "Python 3",
   "language": "python",
   "name": "python3"
  },
  "language_info": {
   "codemirror_mode": {
    "name": "ipython",
    "version": 3
   },
   "file_extension": ".py",
   "mimetype": "text/x-python",
   "name": "python",
   "nbconvert_exporter": "python",
   "pygments_lexer": "ipython3",
   "version": "3.9.12"
  }
 },
 "nbformat": 4,
 "nbformat_minor": 5
}
