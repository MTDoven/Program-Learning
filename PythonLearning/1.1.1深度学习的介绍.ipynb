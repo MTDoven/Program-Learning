{
 "cells": [
  {
   "cell_type": "raw",
   "id": "aba96c75-515a-4d10-9362-259606d2efee",
   "metadata": {},
   "source": [
    "1、深度学习  \n",
    "    a、机器学习的分支，人工智能神经网咯为基础，对数据特征进行学习  \n",
    "2、机器学习和深度学习的区别  \n",
    "    a、特征提取  \n",
    "        i、人工特征抽取  \n",
    "        ii、自动特征提取  \n",
    "    b、数据量  \n",
    "        i、机器学习数据少  \n",
    "        ii、深度学习数据多  \n",
    "3、场景\n",
    "4、框架"
   ]
  }
 ],
 "metadata": {
  "kernelspec": {
   "display_name": "Python 3",
   "language": "python",
   "name": "python3"
  },
  "language_info": {
   "codemirror_mode": {
    "name": "ipython",
    "version": 3
   },
   "file_extension": ".py",
   "mimetype": "text/x-python",
   "name": "python",
   "nbconvert_exporter": "python",
   "pygments_lexer": "ipython3",
   "version": "3.9.12"
  }
 },
 "nbformat": 4,
 "nbformat_minor": 5
}
