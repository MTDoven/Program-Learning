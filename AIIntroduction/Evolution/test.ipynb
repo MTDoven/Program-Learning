{
 "cells": [
  {
   "cell_type": "code",
   "execution_count": 1,
   "id": "bfdd3413708f9281",
   "metadata": {
    "ExecuteTime": {
     "end_time": "2023-12-12T14:20:43.547976600Z",
     "start_time": "2023-12-12T14:20:41.842042900Z"
    }
   },
   "outputs": [],
   "source": [
    "import torch\n",
    "from evolutionary import Evolutionary\n",
    "\n",
    "def function1(x):\n",
    "    y = torch.sum(torch.square(x), dim=-1, keepdim=True)\n",
    "    return -y\n",
    "\n",
    "def function2(x):\n",
    "    y = torch.prod(torch.abs(x), dim=-1) + torch.sum(torch.abs(x), dim=-1)\n",
    "    return -y\n",
    "\n",
    "def function3(x):\n",
    "    y = torch.sum(torch.square(torch.cumsum(x, dim=-1)), dim=-1, keepdim=True)\n",
    "    return -y\n",
    "\n",
    "def function4(x):\n",
    "    y = -x * torch.sin(torch.sqrt(torch.abs(x)))\n",
    "    y = torch.sum(y, dim=-1, keepdim=True)\n",
    "    return -y\n",
    "\n",
    "def function5(x):\n",
    "    y = x**2 - 10 * torch.cos(2*torch.pi*x) + 10\n",
    "    y = torch.sum(y, dim=-1, keepdim=True)\n",
    "    return -y\n",
    "\n",
    "def function6(x):\n",
    "    y1 = torch.mean(x**2, dim=-1, keepdim=True)\n",
    "    y2 = torch.mean(torch.cos(2*torch.pi*x), dim=-1, keepdim=True)\n",
    "    y1 = torch.exp(-0.2*y1)\n",
    "    y2 = torch.exp(y2)\n",
    "    y = 20*(1-y1)+torch.e-y2\n",
    "    return -y"
   ]
  },
  {
   "cell_type": "code",
   "execution_count": 2,
   "id": "9bd3ca3ed18c58e0",
   "metadata": {
    "ExecuteTime": {
     "end_time": "2023-12-12T14:20:47.769700800Z",
     "start_time": "2023-12-12T14:20:47.266932100Z"
    },
    "collapsed": false,
    "jupyter": {
     "outputs_hidden": false
    }
   },
   "outputs": [
    {
     "name": "stdout",
     "output_type": "stream",
     "text": [
      "tensor([-2.8360e-07, -2.2835e-07, -1.6729e-07, -1.6506e-07, -4.6433e-07,\n",
      "         9.4027e-08,  5.8217e-08,  3.1761e-07,  8.0558e-08, -7.7043e-07])\n"
     ]
    },
    {
     "data": {
      "text/plain": [
       "[1.1165581263392066e-12,\n",
       " 1.2760744067322194e-12,\n",
       " 1.2760744067322194e-12,\n",
       " 1.2760744067322194e-12,\n",
       " 1.2760744067322194e-12]"
      ]
     },
     "execution_count": 2,
     "metadata": {},
     "output_type": "execute_result"
    }
   ],
   "source": [
    "function = function1\n",
    "\n",
    "result_list = []\n",
    "def callback(group):\n",
    "    best = -function(group[0:1])\n",
    "    result_list.append(best.item())\n",
    "init = torch.rand([100, 10])*200-100\n",
    "\n",
    "group = Evolutionary(\n",
    "    fittness_fn=function,\n",
    "    initiation=init,\n",
    "    encoder=None,\n",
    "    decoder=None,\n",
    "    clamp_fn=None,\n",
    "    crossover_prob=0.8,\n",
    "    mutation_prob=0.1,\n",
    "    num_offsprings=None,\n",
    "    fitness_upper_bound=None,\n",
    "    max_iter=10000,\n",
    ").fit(callback=callback)\n",
    "\n",
    "print(group[0])\n",
    "list(reversed(result_list))[:5]"
   ]
  },
  {
   "cell_type": "code",
   "execution_count": 3,
   "id": "b89828ae54278db6",
   "metadata": {
    "ExecuteTime": {
     "end_time": "2023-12-12T14:20:54.132115500Z",
     "start_time": "2023-12-12T14:20:53.849431700Z"
    },
    "collapsed": false,
    "jupyter": {
     "outputs_hidden": false
    }
   },
   "outputs": [
    {
     "name": "stdout",
     "output_type": "stream",
     "text": [
      "tensor([ 1.1111e-07, -1.1116e-07, -8.4415e-08, -8.1262e-09, -5.6272e-07,\n",
      "        -1.1800e-07,  1.3616e-08,  1.1458e-07,  4.2977e-08,  1.7952e-07])\n"
     ]
    },
    {
     "data": {
      "text/plain": [
       "[1.3462311017065076e-06,\n",
       " 1.3462311017065076e-06,\n",
       " 1.3462311017065076e-06,\n",
       " 1.3462311017065076e-06,\n",
       " 1.3462311017065076e-06]"
      ]
     },
     "execution_count": 3,
     "metadata": {},
     "output_type": "execute_result"
    }
   ],
   "source": [
    "function = function2\n",
    "\n",
    "result_list = []\n",
    "def callback(group):\n",
    "    best = -function(group[0:1])\n",
    "    result_list.append(best.item())\n",
    "init = torch.rand([100, 10])*20-10\n",
    "\n",
    "group = Evolutionary(\n",
    "    fittness_fn=function,\n",
    "    initiation=init,\n",
    "    encoder=None,\n",
    "    decoder=None,\n",
    "    clamp_fn=None,\n",
    "    crossover_prob=0.8,\n",
    "    mutation_prob=0.1,\n",
    "    num_offsprings=None,\n",
    "    fitness_upper_bound=None,\n",
    "    max_iter=10000,\n",
    ").fit(callback=callback)\n",
    "\n",
    "print(group[0])\n",
    "list(reversed(result_list))[:5]"
   ]
  },
  {
   "cell_type": "code",
   "execution_count": 5,
   "id": "7deac8ca79cce90b",
   "metadata": {
    "ExecuteTime": {
     "end_time": "2023-12-12T14:21:12.319327700Z",
     "start_time": "2023-12-12T14:21:11.612492900Z"
    },
    "collapsed": false,
    "jupyter": {
     "outputs_hidden": false
    }
   },
   "outputs": [
    {
     "name": "stdout",
     "output_type": "stream",
     "text": [
      "tensor([ 2.2102e-09, -7.2386e-07,  1.2276e-06, -6.1741e-07,  5.2179e-07,\n",
      "        -8.2516e-07,  4.1098e-07, -5.7207e-07,  1.4127e-06, -1.0617e-06])\n"
     ]
    },
    {
     "data": {
      "text/plain": [
       "[2.2121050650969476e-12,\n",
       " 2.2121050650969476e-12,\n",
       " 2.2121050650969476e-12,\n",
       " 2.2121050650969476e-12,\n",
       " 2.2121050650969476e-12]"
      ]
     },
     "execution_count": 5,
     "metadata": {},
     "output_type": "execute_result"
    }
   ],
   "source": [
    "function = function3\n",
    "\n",
    "result_list = []\n",
    "def callback(group):\n",
    "    best = -function(group[0:1])\n",
    "    result_list.append(best.item())\n",
    "init = torch.rand([100, 10])*200-100\n",
    "\n",
    "group = Evolutionary(\n",
    "    fittness_fn=function,\n",
    "    initiation=init,\n",
    "    encoder=None,\n",
    "    decoder=None,\n",
    "    clamp_fn=None,\n",
    "    crossover_prob=0.8,\n",
    "    mutation_prob=0.1,\n",
    "    num_offsprings=None,\n",
    "    fitness_upper_bound=None,\n",
    "    max_iter=10000,\n",
    ").fit(callback=callback)\n",
    "\n",
    "print(group[0])\n",
    "list(reversed(result_list))[:5]"
   ]
  },
  {
   "cell_type": "code",
   "execution_count": 6,
   "id": "8832fe26efed064b",
   "metadata": {
    "ExecuteTime": {
     "end_time": "2023-12-12T14:21:24.359647500Z",
     "start_time": "2023-12-12T14:21:23.608377400Z"
    },
    "collapsed": false,
    "jupyter": {
     "outputs_hidden": false
    }
   },
   "outputs": [
    {
     "name": "stdout",
     "output_type": "stream",
     "text": [
      "tensor([420.9749, 420.9713])\n"
     ]
    },
    {
     "data": {
      "text/plain": [
       "[-837.9658813476562,\n",
       " -837.9658813476562,\n",
       " -837.9658813476562,\n",
       " -837.9658813476562,\n",
       " -837.9658813476562]"
      ]
     },
     "execution_count": 6,
     "metadata": {},
     "output_type": "execute_result"
    }
   ],
   "source": [
    "function = function4\n",
    "\n",
    "result_list = []\n",
    "def callback(group):\n",
    "    best = -function(group[0:1])\n",
    "    result_list.append(best.item())\n",
    "init = torch.rand([1000, 2])*1000-500\n",
    "\n",
    "group = Evolutionary(\n",
    "    fittness_fn=function,\n",
    "    initiation=init,\n",
    "    encoder=None,\n",
    "    decoder=None,\n",
    "    clamp_fn=None,\n",
    "    crossover_prob=0.8,\n",
    "    mutation_prob=0.1,\n",
    "    num_offsprings=None,\n",
    "    fitness_upper_bound=None,\n",
    "    max_iter=10000,\n",
    ").fit(callback=callback)\n",
    "\n",
    "print(group[0])\n",
    "list(reversed(result_list))[:5]"
   ]
  },
  {
   "cell_type": "code",
   "execution_count": 7,
   "id": "8288252c46336958",
   "metadata": {
    "ExecuteTime": {
     "end_time": "2023-12-12T14:21:35.115951300Z",
     "start_time": "2023-12-12T14:21:34.329819800Z"
    },
    "collapsed": false,
    "jupyter": {
     "outputs_hidden": false
    }
   },
   "outputs": [
    {
     "name": "stdout",
     "output_type": "stream",
     "text": [
      "tensor([1.5581e-05, 2.6886e-05])\n"
     ]
    },
    {
     "data": {
      "text/plain": [
       "[0.0, 0.0, 0.0, 0.0, 0.0]"
      ]
     },
     "execution_count": 7,
     "metadata": {},
     "output_type": "execute_result"
    }
   ],
   "source": [
    "function = function5\n",
    "\n",
    "result_list = []\n",
    "def callback(group):\n",
    "    best = -function(group[0:1])\n",
    "    result_list.append(best.item())\n",
    "init = torch.rand([1000, 2])*10.24-5.12\n",
    "\n",
    "group = Evolutionary(\n",
    "    fittness_fn=function,\n",
    "    initiation=init,\n",
    "    encoder=None,\n",
    "    decoder=None,\n",
    "    clamp_fn=None,\n",
    "    crossover_prob=0.8,\n",
    "    mutation_prob=0.1,\n",
    "    num_offsprings=None,\n",
    "    fitness_upper_bound=None,\n",
    "    max_iter=10000,\n",
    ").fit(callback=callback)\n",
    "\n",
    "print(group[0])\n",
    "list(reversed(result_list))[:5]"
   ]
  },
  {
   "cell_type": "code",
   "execution_count": 8,
   "id": "153b46c108fc4eb5",
   "metadata": {
    "ExecuteTime": {
     "end_time": "2023-12-12T14:21:41.547848600Z",
     "start_time": "2023-12-12T14:21:40.741367300Z"
    },
    "collapsed": false,
    "jupyter": {
     "outputs_hidden": false
    }
   },
   "outputs": [
    {
     "name": "stdout",
     "output_type": "stream",
     "text": [
      "tensor([-1.4413e-05,  4.8091e-05])\n"
     ]
    },
    {
     "data": {
      "text/plain": [
       "[0.0, 0.0, 0.0, 0.0, 0.0]"
      ]
     },
     "execution_count": 8,
     "metadata": {},
     "output_type": "execute_result"
    }
   ],
   "source": [
    "function = function6\n",
    "\n",
    "result_list = []\n",
    "def callback(group):\n",
    "    best = -function(group[0:1])\n",
    "    result_list.append(best.item())\n",
    "init = torch.rand([1000, 2])*64-32\n",
    "\n",
    "group = Evolutionary(\n",
    "    fittness_fn=function,\n",
    "    initiation=init,\n",
    "    encoder=None,\n",
    "    decoder=None,\n",
    "    clamp_fn=None,\n",
    "    crossover_prob=0.8,\n",
    "    mutation_prob=0.1,\n",
    "    num_offsprings=None,\n",
    "    fitness_upper_bound=None,\n",
    "    max_iter=10000,\n",
    ").fit(callback=callback)\n",
    "\n",
    "print(group[0])\n",
    "list(reversed(result_list))[:5]"
   ]
  },
  {
   "cell_type": "code",
   "execution_count": 13,
   "id": "initial_id",
   "metadata": {
    "ExecuteTime": {
     "end_time": "2023-12-12T14:22:26.029675200Z",
     "start_time": "2023-12-12T14:22:25.920705700Z"
    },
    "collapsed": false,
    "jupyter": {
     "outputs_hidden": false
    }
   },
   "outputs": [
    {
     "data": {
      "text/plain": [
       "<Axes: >"
      ]
     },
     "execution_count": 13,
     "metadata": {},
     "output_type": "execute_result"
    },
    {
     "data": {
      "image/png": "[encoded data removed]",
      "text/plain": [
       "<Figure size 640x480 with 1 Axes>"
      ]
     },
     "metadata": {},
     "output_type": "display_data"
    }
   ],
   "source": [
    "import seaborn as sn\n",
    "import numpy as np\n",
    "sn.lineplot(np.array(result_list[:100]))"
   ]
  },
  {
   "cell_type": "code",
   "execution_count": null,
   "id": "813f6c3653ab3f29",
   "metadata": {
    "collapsed": false,
    "jupyter": {
     "outputs_hidden": false
    }
   },
   "outputs": [],
   "source": []
  }
 ],
 "metadata": {
  "kernelspec": {
   "display_name": "Python 3 (ipykernel)",
   "language": "python",
   "name": "python3"
  },
  "language_info": {
   "codemirror_mode": {
    "name": "ipython",
    "version": 3
   },
   "file_extension": ".py",
   "mimetype": "text/x-python",
   "name": "python",
   "nbconvert_exporter": "python",
   "pygments_lexer": "ipython3",
   "version": "3.11.5"
  }
 },
 "nbformat": 4,
 "nbformat_minor": 5
}
